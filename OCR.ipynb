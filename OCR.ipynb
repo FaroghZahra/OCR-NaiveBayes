{
 "cells": [
  {
   "cell_type": "code",
   "execution_count": 24,
   "id": "1b53aa43",
   "metadata": {},
   "outputs": [],
   "source": [
    "#imports\n",
    "%matplotlib inline\n",
    "\n",
    "import numpy as np\n",
    "\n",
    "from matplotlib import pyplot as plt\n"
   ]
  },
  {
   "cell_type": "code",
   "execution_count": 25,
   "id": "b2b916f3",
   "metadata": {},
   "outputs": [],
   "source": [
    "#data to numpy arrays\n",
    "X_train = np.loadtxt(\"trainX.txt\", dtype=np.uint8)\n",
    "Y_train = np.loadtxt(\"trainY.txt\", dtype=np.uint8)\n",
    "X_test = np.loadtxt(\"testX.txt\", dtype=np.uint8)\n",
    "Y_test = np.loadtxt(\"testY.txt\", dtype=np.uint8)"
   ]
  },
  {
   "cell_type": "code",
   "execution_count": 26,
   "id": "dbd6475b",
   "metadata": {},
   "outputs": [],
   "source": [
    "#getting values of both classes\n",
    "divide = len(X_train)/2\n",
    "train_2 = X_train[:int(divide),:]\n",
    "train_4 = X_train[int(divide):,:]"
   ]
  },
  {
   "cell_type": "code",
   "execution_count": 27,
   "id": "2b7be5a9",
   "metadata": {},
   "outputs": [],
   "source": [
    "#probability of 0 and 1 for class of 2 and applying laplace smoothing\n",
    "one_prob_2 = (train_2.sum(axis = 0) + 1)/(train_2.shape[0] + 2)\n",
    "zero_prob_2 = 1 - one_prob_2"
   ]
  },
  {
   "cell_type": "code",
   "execution_count": 28,
   "id": "40590f3b",
   "metadata": {},
   "outputs": [],
   "source": [
    "#probability of 0 and 1 for class of 4 and applying laplace smoothing\n",
    "one_prob_4 = (train_4.sum(axis = 0) + 1)/(train_4.shape[0] + 2)\n",
    "zero_prob_4 = 1 - one_prob_4\n"
   ]
  },
  {
   "cell_type": "code",
   "execution_count": 29,
   "id": "925fb771",
   "metadata": {},
   "outputs": [],
   "source": [
    "# product of all xi given y\n",
    "def probability(X, zero_prob, one_prob):\n",
    "    prob = []\n",
    "    for i in X:\n",
    "        p = 1\n",
    "        for j in range(len(i)):\n",
    "            if(i[j] == 0):\n",
    "                p = p * zero_prob[j]\n",
    "            elif(i[j] == 1):\n",
    "                p = p * one_prob[j]\n",
    "        prob.append(p)\n",
    "    probab = np.array([prob]).T\n",
    "    return probab\n"
   ]
  },
  {
   "cell_type": "code",
   "execution_count": 30,
   "id": "bc06b50a",
   "metadata": {},
   "outputs": [],
   "source": [
    "#selecting argmax; creating predictions of data\n",
    "def predictions(prob_2, prob_4):\n",
    "    prediction = np.empty(len(prob_2))\n",
    "    for i in range(len(prob_4)):\n",
    "        if(prob_2[i] > prob_4[i]):\n",
    "            prediction[i] = 2\n",
    "        elif(prob_4[i] > prob_2[i]):\n",
    "            prediction[i] = 4\n",
    "    return prediction"
   ]
  },
  {
   "cell_type": "code",
   "execution_count": 31,
   "id": "aa41e46f",
   "metadata": {},
   "outputs": [],
   "source": [
    "#matching output file and predictions; considering 2 as true positive and 4 as true negative\n",
    "def match(predictions, Y):\n",
    "    TP=TN=FP=FN=0\n",
    "    for i in range(len(predictions)):\n",
    "        if(predictions[i] == 2 and Y[i] == 2):\n",
    "            TP+=1\n",
    "        elif(predictions[i] == 4 and Y[i] == 4):\n",
    "            TN+=1\n",
    "        elif(predictions[i] == 2 and Y[i] == 4):\n",
    "            FP+=1\n",
    "        elif(predictions[i] == 4 and Y[i] == 2):\n",
    "            FN+=1\n",
    "    return TP,TN,FP,FN"
   ]
  },
  {
   "cell_type": "code",
   "execution_count": 32,
   "id": "e9686e16",
   "metadata": {},
   "outputs": [],
   "source": [
    "#calculating accuracy function\n",
    "def accuracy(Y):\n",
    "    acc_2 = 0\n",
    "    acc_4 = 0\n",
    "    for i in range(len(Y)):\n",
    "        if(Y[i] == 2):\n",
    "            acc_2 = acc_2 + 1\n",
    "        elif(Y[i] == 4):\n",
    "            acc_4 = acc_4 + 1\n",
    "    return acc_2, acc_4"
   ]
  },
  {
   "cell_type": "code",
   "execution_count": 33,
   "id": "4ccba78b",
   "metadata": {},
   "outputs": [],
   "source": [
    "#Calucating accuracy for class 2 and 4 of training data\n",
    "prob_2_train = probability(X_train, zero_prob_2, one_prob_2)\n",
    "prob_4_train = probability(X_train, zero_prob_4, one_prob_4)\n",
    "predictions_train = predictions(prob_2_train, prob_4_train)\n",
    "TP_train,TN_train,FP_train,FN_train = match(predictions_train, Y_train)\n",
    "acc_2_train,acc_4_train = accuracy(Y_train)\n",
    "Result_train_2 = TP_train/acc_2_train        \n",
    "Result_train_4 = TN_train/acc_4_train"
   ]
  },
  {
   "cell_type": "code",
   "execution_count": 34,
   "id": "d0e070b0",
   "metadata": {},
   "outputs": [],
   "source": [
    "#Calucating accuracy for class 2 and 4 of testing data\n",
    "prob_2_test = probability(X_test, zero_prob_2, one_prob_2)\n",
    "prob_4_test = probability(X_test, zero_prob_4, one_prob_4)\n",
    "predictions_test = predictions(prob_2_test, prob_4_test)\n",
    "TP_test,TN_test,FP_test,FN_test = match(predictions_test, Y_test)\n",
    "acc_2_test,acc_4_test = accuracy(Y_test)\n",
    "Result_test_2 = TP_test/acc_2_test        \n",
    "Result_test_4 = TN_test/acc_4_test"
   ]
  },
  {
   "cell_type": "code",
   "execution_count": 35,
   "id": "5dfe2a94",
   "metadata": {},
   "outputs": [],
   "source": [
    "#calulating overall accuracy; (TP+TN)/(TP+TN+FP+FN)\n",
    "Result_train_overall = (TP_train+TN_train)/(TP_train+TN_train+FP_train+FN_train)\n",
    "Result_test_overall = (TP_test+TN_test)/(TP_test+TN_test+FP_test+FN_test)"
   ]
  },
  {
   "cell_type": "code",
   "execution_count": 23,
   "id": "56fbb9d3",
   "metadata": {},
   "outputs": [
    {
     "name": "stdout",
     "output_type": "stream",
     "text": [
      "\u001b[1mOVERALL ACCURACY:\n",
      "Training Data:\u001b[0m 98.8 %\t\t\u001b[1mTesting Data:\u001b[0m 100.0 %\n",
      "\n",
      "\u001b[1mTRAINING DATA:\n",
      "Class 2:\u001b[0m 98.4 %\t\t\t\u001b[1mClass 4:\u001b[0m 99.2 %\n",
      "\n",
      "\u001b[1mTESTING DATA:\n",
      "Class 2:\u001b[0m 100.0 %\t\t\u001b[1mClass 4:\u001b[0m 100.0 %\n"
     ]
    }
   ],
   "source": [
    "#printing results\n",
    "print(\"\\033[1mOVERALL ACCURACY:\\nTraining Data:\\033[0m\", Result_train_overall*100, \"%\\t\\t\\033[1mTesting Data:\\033[0m\", Result_test_overall*100, \"%\\n\")\n",
    "print(\"\\033[1mTRAINING DATA:\\nClass 2:\\033[0m\", Result_train_2*100, \"%\\t\\t\\t\\033[1mClass 4:\\033[0m\", Result_train_4*100, \"%\\n\")\n",
    "print(\"\\033[1mTESTING DATA:\\nClass 2:\\033[0m\", Result_test_2*100, \"%\\t\\t\\033[1mClass 4:\\033[0m\", Result_test_4*100, \"%\")"
   ]
  },
  {
   "cell_type": "code",
   "execution_count": null,
   "id": "f0cc8530",
   "metadata": {},
   "outputs": [],
   "source": []
  }
 ],
 "metadata": {
  "kernelspec": {
   "display_name": "Python 3 (ipykernel)",
   "language": "python",
   "name": "python3"
  },
  "language_info": {
   "codemirror_mode": {
    "name": "ipython",
    "version": 3
   },
   "file_extension": ".py",
   "mimetype": "text/x-python",
   "name": "python",
   "nbconvert_exporter": "python",
   "pygments_lexer": "ipython3",
   "version": "3.9.7"
  }
 },
 "nbformat": 4,
 "nbformat_minor": 5
}
